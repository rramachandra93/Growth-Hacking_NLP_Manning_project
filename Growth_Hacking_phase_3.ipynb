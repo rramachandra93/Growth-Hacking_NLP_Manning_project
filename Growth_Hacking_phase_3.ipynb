{
  "nbformat": 4,
  "nbformat_minor": 0,
  "metadata": {
    "colab": {
      "name": "Growth_Hacking_phase_3",
      "provenance": [],
      "collapsed_sections": []
    },
    "kernelspec": {
      "name": "python3",
      "display_name": "Python 3"
    },
    "accelerator": "GPU"
  },
  "cells": [
    {
      "cell_type": "code",
      "metadata": {
        "id": "LsE9DzdrVToL",
        "outputId": "33389e5a-3bf2-4e60-8534-14c4f2c17870",
        "colab": {
          "base_uri": "https://localhost:8080/",
          "height": 34
        }
      },
      "source": [
        "from google.colab import drive\n",
        "drive.mount('/content/drive', force_remount=True)"
      ],
      "execution_count": null,
      "outputs": [
        {
          "output_type": "stream",
          "text": [
            "Mounted at /content/drive\n"
          ],
          "name": "stdout"
        }
      ]
    },
    {
      "cell_type": "code",
      "metadata": {
        "id": "thKN972qTAw8"
      },
      "source": [
        "import pandas as pd\n",
        "import altair as alt\n",
        "import numpy as np\n",
        "from sklearn.metrics import accuracy_score, precision_score, recall_score, f1_score, classification_report, confusion_matrix"
      ],
      "execution_count": null,
      "outputs": []
    },
    {
      "cell_type": "code",
      "metadata": {
        "id": "hK3BMEllVWp3"
      },
      "source": [
        "#import DataFrame\n",
        "data = pd.read_csv('/content/drive/My Drive/Manning_NLP_Project/Phase_3/small_corpus.csv')"
      ],
      "execution_count": null,
      "outputs": []
    },
    {
      "cell_type": "code",
      "metadata": {
        "id": "v870PrKWVVLW",
        "outputId": "9b1f4cbf-3cf9-4555-c631-cdbd264438ed",
        "colab": {
          "base_uri": "https://localhost:8080/",
          "height": 195
        }
      },
      "source": [
        "data.head()"
      ],
      "execution_count": null,
      "outputs": [
        {
          "output_type": "execute_result",
          "data": {
            "text/html": [
              "<div>\n",
              "<style scoped>\n",
              "    .dataframe tbody tr th:only-of-type {\n",
              "        vertical-align: middle;\n",
              "    }\n",
              "\n",
              "    .dataframe tbody tr th {\n",
              "        vertical-align: top;\n",
              "    }\n",
              "\n",
              "    .dataframe thead th {\n",
              "        text-align: right;\n",
              "    }\n",
              "</style>\n",
              "<table border=\"1\" class=\"dataframe\">\n",
              "  <thead>\n",
              "    <tr style=\"text-align: right;\">\n",
              "      <th></th>\n",
              "      <th>Unnamed: 0</th>\n",
              "      <th>Unnamed: 0.1</th>\n",
              "      <th>reviews</th>\n",
              "      <th>ratings</th>\n",
              "      <th>sentiment_scores</th>\n",
              "    </tr>\n",
              "  </thead>\n",
              "  <tbody>\n",
              "    <tr>\n",
              "      <th>0</th>\n",
              "      <td>0</td>\n",
              "      <td>0</td>\n",
              "      <td>Recently UBISOFT had to settle a huge class-ac...</td>\n",
              "      <td>1.0</td>\n",
              "      <td>-0.009260</td>\n",
              "    </tr>\n",
              "    <tr>\n",
              "      <th>1</th>\n",
              "      <td>1</td>\n",
              "      <td>1</td>\n",
              "      <td>code didn't work, got me a refund.</td>\n",
              "      <td>1.0</td>\n",
              "      <td>-0.222198</td>\n",
              "    </tr>\n",
              "    <tr>\n",
              "      <th>2</th>\n",
              "      <td>2</td>\n",
              "      <td>2</td>\n",
              "      <td>these do not work at all, all i get is static ...</td>\n",
              "      <td>1.0</td>\n",
              "      <td>0.000000</td>\n",
              "    </tr>\n",
              "    <tr>\n",
              "      <th>3</th>\n",
              "      <td>3</td>\n",
              "      <td>3</td>\n",
              "      <td>well let me start by saying that when i first ...</td>\n",
              "      <td>1.0</td>\n",
              "      <td>-0.023175</td>\n",
              "    </tr>\n",
              "    <tr>\n",
              "      <th>4</th>\n",
              "      <td>4</td>\n",
              "      <td>4</td>\n",
              "      <td>Dont waste your money, you will just end up us...</td>\n",
              "      <td>1.0</td>\n",
              "      <td>0.000000</td>\n",
              "    </tr>\n",
              "  </tbody>\n",
              "</table>\n",
              "</div>"
            ],
            "text/plain": [
              "   Unnamed: 0  Unnamed: 0.1  ... ratings  sentiment_scores\n",
              "0           0             0  ...     1.0         -0.009260\n",
              "1           1             1  ...     1.0         -0.222198\n",
              "2           2             2  ...     1.0          0.000000\n",
              "3           3             3  ...     1.0         -0.023175\n",
              "4           4             4  ...     1.0          0.000000\n",
              "\n",
              "[5 rows x 5 columns]"
            ]
          },
          "metadata": {
            "tags": []
          },
          "execution_count": 3
        }
      ]
    },
    {
      "cell_type": "code",
      "metadata": {
        "id": "omFoTSzfV7Tj"
      },
      "source": [
        "#convert sentiment scores into 3 different classes.This is the classification part. Here we manually calculating Threshold values .But we will realize this is a tedious process.\n",
        "def sentiment_classifier(sentiment_score):\n",
        "  #if sentiment score > 0.06 it is positive category\n",
        "  if sentiment_score > 0.06:\n",
        "    sentiment = 'positive'\n",
        "  #if sentiment score < 0 it is negative category\n",
        "  elif sentiment_score < 0:\n",
        "    sentiment = 'negative'\n",
        "   #if sentiment scorebetween -0 and 0.06 it is neutral category\n",
        "  else:\n",
        "    sentiment = 'neutral'\n",
        "  return sentiment"
      ],
      "execution_count": null,
      "outputs": []
    },
    {
      "cell_type": "code",
      "metadata": {
        "id": "wOomcbyobljK"
      },
      "source": [
        "#convert rating into 3 different classes\n",
        "def rating_classifier(rating):\n",
        "  #if rating == 5 positive category\n",
        "  if rating > 4:\n",
        "    rating_class = 'positive'\n",
        "  #if rating == 1 negative\n",
        "  elif rating < 2:\n",
        "    rating_class = 'negative'\n",
        "  #if rating between 2 and 4 includes neutral category\n",
        "  else:\n",
        "    rating_class = 'neutral'\n",
        "  return rating_class"
      ],
      "execution_count": null,
      "outputs": []
    },
    {
      "cell_type": "code",
      "metadata": {
        "id": "Lkla1TBPcFvv",
        "outputId": "02e3d6c4-37d1-4da0-e3a6-668aeac2c6da",
        "colab": {
          "base_uri": "https://localhost:8080/",
          "height": 195
        }
      },
      "source": [
        "#create an empty dataframe to store the sentiment score and rating scores\n",
        "review_classes = pd.DataFrame()\n",
        "#classify sentiment scores  into 3 categories and store in new datframes sentiment_class column\n",
        "review_classes['sentimnet_class'] = data['sentiment_scores'].apply(sentiment_classifier)\n",
        "#classify rating scores  into 3 categories and store in new datframes rating_class column\n",
        "review_classes['rating_class'] = data['ratings'].apply(rating_classifier)\n",
        "#new dataframes first 5 columns\n",
        "review_classes.head()"
      ],
      "execution_count": null,
      "outputs": [
        {
          "output_type": "execute_result",
          "data": {
            "text/html": [
              "<div>\n",
              "<style scoped>\n",
              "    .dataframe tbody tr th:only-of-type {\n",
              "        vertical-align: middle;\n",
              "    }\n",
              "\n",
              "    .dataframe tbody tr th {\n",
              "        vertical-align: top;\n",
              "    }\n",
              "\n",
              "    .dataframe thead th {\n",
              "        text-align: right;\n",
              "    }\n",
              "</style>\n",
              "<table border=\"1\" class=\"dataframe\">\n",
              "  <thead>\n",
              "    <tr style=\"text-align: right;\">\n",
              "      <th></th>\n",
              "      <th>sentimnet_class</th>\n",
              "      <th>rating_class</th>\n",
              "    </tr>\n",
              "  </thead>\n",
              "  <tbody>\n",
              "    <tr>\n",
              "      <th>0</th>\n",
              "      <td>negative</td>\n",
              "      <td>negative</td>\n",
              "    </tr>\n",
              "    <tr>\n",
              "      <th>1</th>\n",
              "      <td>negative</td>\n",
              "      <td>negative</td>\n",
              "    </tr>\n",
              "    <tr>\n",
              "      <th>2</th>\n",
              "      <td>neutral</td>\n",
              "      <td>negative</td>\n",
              "    </tr>\n",
              "    <tr>\n",
              "      <th>3</th>\n",
              "      <td>negative</td>\n",
              "      <td>negative</td>\n",
              "    </tr>\n",
              "    <tr>\n",
              "      <th>4</th>\n",
              "      <td>neutral</td>\n",
              "      <td>negative</td>\n",
              "    </tr>\n",
              "  </tbody>\n",
              "</table>\n",
              "</div>"
            ],
            "text/plain": [
              "  sentimnet_class rating_class\n",
              "0        negative     negative\n",
              "1        negative     negative\n",
              "2         neutral     negative\n",
              "3        negative     negative\n",
              "4         neutral     negative"
            ]
          },
          "metadata": {
            "tags": []
          },
          "execution_count": 129
        }
      ]
    },
    {
      "cell_type": "code",
      "metadata": {
        "id": "9ovnRJG_dZGH",
        "outputId": "05029cb5-da92-468e-d144-ff44df1e8548",
        "colab": {
          "base_uri": "https://localhost:8080/",
          "height": 34
        }
      },
      "source": [
        "#print accuracy of the classifications here\n",
        "print('Accuracy of the dictionary based classifier is:', accuracy_score( review_classes['rating_class'], review_classes['sentimnet_class'])*100, '%')"
      ],
      "execution_count": null,
      "outputs": [
        {
          "output_type": "stream",
          "text": [
            "Accuracy of the dictionary based classifier is: 55.57777777777778 %\n"
          ],
          "name": "stdout"
        }
      ]
    },
    {
      "cell_type": "code",
      "metadata": {
        "id": "ONHUCLMxf8vW",
        "outputId": "7f45ba4d-c8a3-47df-8437-d3aa3f77fa77",
        "colab": {
          "base_uri": "https://localhost:8080/",
          "height": 34
        }
      },
      "source": [
        "#print precision score \n",
        "print('precision score of the dictionary based classifier is:', precision_score(review_classes['sentimnet_class'], review_classes['rating_class'], average = 'micro'))"
      ],
      "execution_count": null,
      "outputs": [
        {
          "output_type": "stream",
          "text": [
            "precision score of the dictionary based classifier is: 0.5557777777777778\n"
          ],
          "name": "stdout"
        }
      ]
    },
    {
      "cell_type": "code",
      "metadata": {
        "id": "I4Jx5uWYgoqM",
        "outputId": "f5544ab8-daec-4a88-b77c-ca9effcefb95",
        "colab": {
          "base_uri": "https://localhost:8080/",
          "height": 34
        }
      },
      "source": [
        "#print recall score\n",
        "print('recall score of dictionary based classifier is :', recall_score(review_classes['sentimnet_class'], review_classes['rating_class'], average = 'micro'))"
      ],
      "execution_count": null,
      "outputs": [
        {
          "output_type": "stream",
          "text": [
            "recall score of dictionary based classifier is : 0.5557777777777778\n"
          ],
          "name": "stdout"
        }
      ]
    },
    {
      "cell_type": "code",
      "metadata": {
        "id": "U1KEWcXAgsn9",
        "outputId": "233858b7-ba48-4972-f74a-edacf562fa35",
        "colab": {
          "base_uri": "https://localhost:8080/",
          "height": 34
        }
      },
      "source": [
        "#print F! score\n",
        "print('F1 score of dictionary based classifier is:', f1_score(review_classes['sentimnet_class'], review_classes['rating_class'], average = 'micro'))"
      ],
      "execution_count": null,
      "outputs": [
        {
          "output_type": "stream",
          "text": [
            "F1 score of dictionary based classifier is: 0.5557777777777778\n"
          ],
          "name": "stdout"
        }
      ]
    },
    {
      "cell_type": "code",
      "metadata": {
        "id": "KArOwMKkhfOT",
        "outputId": "19593e4e-6965-4a10-e4d3-ffed8dbdcc63",
        "colab": {
          "base_uri": "https://localhost:8080/",
          "height": 202
        }
      },
      "source": [
        "#print classification report\n",
        "print('Classification report of the model is:\\n', classification_report(review_classes['rating_class'], review_classes['sentimnet_class'], ))"
      ],
      "execution_count": null,
      "outputs": [
        {
          "output_type": "stream",
          "text": [
            "Classification report of the model is:\n",
            "               precision    recall  f1-score   support\n",
            "\n",
            "    negative       0.61      0.60      0.61      1500\n",
            "     neutral       0.42      0.48      0.45      1500\n",
            "    positive       0.69      0.58      0.63      1500\n",
            "\n",
            "    accuracy                           0.56      4500\n",
            "   macro avg       0.57      0.56      0.56      4500\n",
            "weighted avg       0.57      0.56      0.56      4500\n",
            "\n"
          ],
          "name": "stdout"
        }
      ]
    },
    {
      "cell_type": "code",
      "metadata": {
        "id": "Feq1V0l-iJiY"
      },
      "source": [
        "#convert confusion matrix into dataframe to get a better idea \n",
        "confusion_mat_dataframe = pd.DataFrame(confusion_matrix(review_classes['rating_class'], review_classes['sentimnet_class']),index = ['actual_negative', 'actual_neutarl', 'actual_positive'], columns = ['predicted_negative', 'predicted_neutarl', 'predicted_positive'])"
      ],
      "execution_count": null,
      "outputs": []
    },
    {
      "cell_type": "code",
      "metadata": {
        "id": "MQnW2opXn5v6",
        "outputId": "be704c2d-0f58-46e6-a4ef-1c1acd427efa",
        "colab": {
          "base_uri": "https://localhost:8080/",
          "height": 136
        }
      },
      "source": [
        "confusion_mat_dataframe"
      ],
      "execution_count": null,
      "outputs": [
        {
          "output_type": "execute_result",
          "data": {
            "text/html": [
              "<div>\n",
              "<style scoped>\n",
              "    .dataframe tbody tr th:only-of-type {\n",
              "        vertical-align: middle;\n",
              "    }\n",
              "\n",
              "    .dataframe tbody tr th {\n",
              "        vertical-align: top;\n",
              "    }\n",
              "\n",
              "    .dataframe thead th {\n",
              "        text-align: right;\n",
              "    }\n",
              "</style>\n",
              "<table border=\"1\" class=\"dataframe\">\n",
              "  <thead>\n",
              "    <tr style=\"text-align: right;\">\n",
              "      <th></th>\n",
              "      <th>predicted_negative</th>\n",
              "      <th>predicted_neutarl</th>\n",
              "      <th>predicted_positive</th>\n",
              "    </tr>\n",
              "  </thead>\n",
              "  <tbody>\n",
              "    <tr>\n",
              "      <th>actual_negative</th>\n",
              "      <td>906</td>\n",
              "      <td>512</td>\n",
              "      <td>82</td>\n",
              "    </tr>\n",
              "    <tr>\n",
              "      <th>actual_neutarl</th>\n",
              "      <td>459</td>\n",
              "      <td>725</td>\n",
              "      <td>316</td>\n",
              "    </tr>\n",
              "    <tr>\n",
              "      <th>actual_positive</th>\n",
              "      <td>122</td>\n",
              "      <td>508</td>\n",
              "      <td>870</td>\n",
              "    </tr>\n",
              "  </tbody>\n",
              "</table>\n",
              "</div>"
            ],
            "text/plain": [
              "                 predicted_negative  predicted_neutarl  predicted_positive\n",
              "actual_negative                 906                512                  82\n",
              "actual_neutarl                  459                725                 316\n",
              "actual_positive                 122                508                 870"
            ]
          },
          "metadata": {
            "tags": []
          },
          "execution_count": 136
        }
      ]
    },
    {
      "cell_type": "code",
      "metadata": {
        "id": "Odk2J_Skid_e",
        "outputId": "3faad607-208a-49de-d848-7c863358b118",
        "colab": {
          "base_uri": "https://localhost:8080/",
          "height": 84
        }
      },
      "source": [
        "#predicted classes count\n",
        "review_classes['sentimnet_class'].value_counts()"
      ],
      "execution_count": null,
      "outputs": [
        {
          "output_type": "execute_result",
          "data": {
            "text/plain": [
              "neutral     1745\n",
              "negative    1487\n",
              "positive    1268\n",
              "Name: sentimnet_class, dtype: int64"
            ]
          },
          "metadata": {
            "tags": []
          },
          "execution_count": 137
        }
      ]
    },
    {
      "cell_type": "code",
      "metadata": {
        "id": "7SqRUNDjs4qS",
        "outputId": "0a075538-dbfd-4d72-ecc5-56ef3c8d715d",
        "colab": {
          "base_uri": "https://localhost:8080/",
          "height": 84
        }
      },
      "source": [
        "#actual classes count\n",
        "review_classes['rating_class'].value_counts()"
      ],
      "execution_count": null,
      "outputs": [
        {
          "output_type": "execute_result",
          "data": {
            "text/plain": [
              "positive    1500\n",
              "neutral     1500\n",
              "negative    1500\n",
              "Name: rating_class, dtype: int64"
            ]
          },
          "metadata": {
            "tags": []
          },
          "execution_count": 25
        }
      ]
    },
    {
      "cell_type": "code",
      "metadata": {
        "id": "qeYNEuwmrjAk",
        "outputId": "982fe212-d85d-4b1a-8a71-a095e35d6322",
        "colab": {
          "base_uri": "https://localhost:8080/",
          "height": 359
        }
      },
      "source": [
        "#we can use altair heatmap on confusion_mat_dataframe for plotting the confusion matrix \n",
        "x, y = np.meshgrid(range(0, 3), range(0, 3))\n",
        "\n",
        "\n",
        "# Convert this grid to columnar data expected by Altair\n",
        "source = pd.DataFrame({'target': x.ravel(),\n",
        "                     'predicted': y.ravel(),\n",
        "                     # z expect a numpy 1 D array than a data frame\n",
        "                     'z': confusion_mat_dataframe.to_numpy().ravel()})\n",
        "#plotting the heatmap\n",
        "alt.Chart(source).mark_rect().encode(\n",
        "    x='target:O',\n",
        "    y='predicted:O',\n",
        "    color='z:Q'\n",
        ").properties(width = 300, height = 300)"
      ],
      "execution_count": null,
      "outputs": [
        {
          "output_type": "execute_result",
          "data": {
            "text/plain": [
              "alt.Chart(...)"
            ],
            "text/html": [
              "\n",
              "<div id=\"altair-viz-c93b215329ac4edc8111758525b6dda5\"></div>\n",
              "<script type=\"text/javascript\">\n",
              "  (function(spec, embedOpt){\n",
              "    let outputDiv = document.currentScript.previousElementSibling;\n",
              "    if (outputDiv.id !== \"altair-viz-c93b215329ac4edc8111758525b6dda5\") {\n",
              "      outputDiv = document.getElementById(\"altair-viz-c93b215329ac4edc8111758525b6dda5\");\n",
              "    }\n",
              "    const paths = {\n",
              "      \"vega\": \"https://cdn.jsdelivr.net/npm//vega@5?noext\",\n",
              "      \"vega-lib\": \"https://cdn.jsdelivr.net/npm//vega-lib?noext\",\n",
              "      \"vega-lite\": \"https://cdn.jsdelivr.net/npm//vega-lite@4.8.1?noext\",\n",
              "      \"vega-embed\": \"https://cdn.jsdelivr.net/npm//vega-embed@6?noext\",\n",
              "    };\n",
              "\n",
              "    function loadScript(lib) {\n",
              "      return new Promise(function(resolve, reject) {\n",
              "        var s = document.createElement('script');\n",
              "        s.src = paths[lib];\n",
              "        s.async = true;\n",
              "        s.onload = () => resolve(paths[lib]);\n",
              "        s.onerror = () => reject(`Error loading script: ${paths[lib]}`);\n",
              "        document.getElementsByTagName(\"head\")[0].appendChild(s);\n",
              "      });\n",
              "    }\n",
              "\n",
              "    function showError(err) {\n",
              "      outputDiv.innerHTML = `<div class=\"error\" style=\"color:red;\">${err}</div>`;\n",
              "      throw err;\n",
              "    }\n",
              "\n",
              "    function displayChart(vegaEmbed) {\n",
              "      vegaEmbed(outputDiv, spec, embedOpt)\n",
              "        .catch(err => showError(`Javascript Error: ${err.message}<br>This usually means there's a typo in your chart specification. See the javascript console for the full traceback.`));\n",
              "    }\n",
              "\n",
              "    if(typeof define === \"function\" && define.amd) {\n",
              "      requirejs.config({paths});\n",
              "      require([\"vega-embed\"], displayChart, err => showError(`Error loading script: ${err.message}`));\n",
              "    } else if (typeof vegaEmbed === \"function\") {\n",
              "      displayChart(vegaEmbed);\n",
              "    } else {\n",
              "      loadScript(\"vega\")\n",
              "        .then(() => loadScript(\"vega-lite\"))\n",
              "        .then(() => loadScript(\"vega-embed\"))\n",
              "        .catch(showError)\n",
              "        .then(() => displayChart(vegaEmbed));\n",
              "    }\n",
              "  })({\"config\": {\"view\": {\"continuousWidth\": 400, \"continuousHeight\": 300}}, \"data\": {\"name\": \"data-984489f6d0ac4f41a7c9a043af9c2e88\"}, \"mark\": \"rect\", \"encoding\": {\"color\": {\"type\": \"quantitative\", \"field\": \"z\"}, \"x\": {\"type\": \"ordinal\", \"field\": \"target\"}, \"y\": {\"type\": \"ordinal\", \"field\": \"predicted\"}}, \"height\": 300, \"width\": 300, \"$schema\": \"https://vega.github.io/schema/vega-lite/v4.8.1.json\", \"datasets\": {\"data-984489f6d0ac4f41a7c9a043af9c2e88\": [{\"target\": 0, \"predicted\": 0, \"z\": 906}, {\"target\": 1, \"predicted\": 0, \"z\": 512}, {\"target\": 2, \"predicted\": 0, \"z\": 82}, {\"target\": 0, \"predicted\": 1, \"z\": 459}, {\"target\": 1, \"predicted\": 1, \"z\": 725}, {\"target\": 2, \"predicted\": 1, \"z\": 316}, {\"target\": 0, \"predicted\": 2, \"z\": 122}, {\"target\": 1, \"predicted\": 2, \"z\": 508}, {\"target\": 2, \"predicted\": 2, \"z\": 870}]}}, {\"mode\": \"vega-lite\"});\n",
              "</script>"
            ]
          },
          "metadata": {
            "tags": []
          },
          "execution_count": 138
        }
      ]
    },
    {
      "cell_type": "markdown",
      "metadata": {
        "id": "KesPYQJ3EOel"
      },
      "source": [
        "From the above chart and accuracy matrices we can find that this method of calculating sentiments and manual classification is a tedious process will not provide better performance.It has lot of misclassifications.And we have to check for more advanced methods. This part will be done on phase 4"
      ]
    },
    {
      "cell_type": "code",
      "metadata": {
        "id": "MkiBf89jEqQw"
      },
      "source": [
        ""
      ],
      "execution_count": null,
      "outputs": []
    }
  ]
}